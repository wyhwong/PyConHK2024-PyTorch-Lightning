{
 "cells": [
  {
   "cell_type": "code",
   "execution_count": null,
   "metadata": {},
   "outputs": [],
   "source": [
    "import matplotlib.pyplot as plt\n",
    "import numpy as np\n",
    "import seaborn as sns\n",
    "import torch\n",
    "\n",
    "import demo.torch.models\n",
    "from demo.torch.utils import get_optimizer, get_scheduler, train_regression_model\n",
    "\n",
    "\n",
    "torch.manual_seed(42)\n",
    "np.random.seed(42)"
   ]
  },
  {
   "cell_type": "code",
   "execution_count": null,
   "metadata": {},
   "outputs": [],
   "source": [
    "def visualize(x, y, y_pred=None):\n",
    "    \"\"\"Scatter plot of the data points and the predictions\"\"\"\n",
    "\n",
    "    _, ax = plt.subplots(figsize=(6, 6))\n",
    "    sns.scatterplot(x=x.flatten(), y=y.flatten(), label=\"Observations\", ax=ax)\n",
    "    sns.lineplot(\n",
    "        x=x.flatten(), y=x.flatten(), linestyle=\"--\", color=\"red\", label=\"Ground truth\"\n",
    "    )\n",
    "    if y_pred is not None:\n",
    "        sns.scatterplot(\n",
    "            x=x.flatten(), y=y_pred.flatten(), color=\"green\", label=\"Predictions\"\n",
    "        )\n",
    "    ax.set(xlabel=\"X\", ylabel=\"Y\", title=\"Simple linear regression dataset\")\n",
    "    plt.show()"
   ]
  },
  {
   "cell_type": "code",
   "execution_count": null,
   "metadata": {},
   "outputs": [],
   "source": [
    "# Prepare a very simple dataset for linear regression\n",
    "x = torch.linspace(0, 1, 500).view(-1, 1)\n",
    "y = x + 0.2 * torch.randn_like(x)\n",
    "\n",
    "visualize(x, y)"
   ]
  },
  {
   "cell_type": "code",
   "execution_count": null,
   "metadata": {},
   "outputs": [],
   "source": [
    "model = demo.torch.models.LinearRegression(in_features=1, out_features=1)\n",
    "\n",
    "optimizer = get_optimizer(model)\n",
    "scheduler = get_scheduler(optimizer)\n",
    "\n",
    "train_dataloader = torch.utils.data.DataLoader(\n",
    "    torch.utils.data.TensorDataset(x, y), batch_size=16, shuffle=True\n",
    ")\n",
    "val_dataloader = torch.utils.data.DataLoader(\n",
    "    torch.utils.data.TensorDataset(x, y), batch_size=16, shuffle=False\n",
    ")\n",
    "\n",
    "train_regression_model(\n",
    "    model,\n",
    "    train_dataloader,\n",
    "    val_dataloader,\n",
    "    optimizer,\n",
    "    scheduler,\n",
    "    n_epochs=3,\n",
    "    device=torch.device(\"cuda\"),\n",
    ")"
   ]
  },
  {
   "cell_type": "code",
   "execution_count": null,
   "metadata": {},
   "outputs": [],
   "source": [
    "with torch.no_grad():\n",
    "    y_pred = model(x.to(\"cuda\")).detach().cpu()\n",
    "\n",
    "visualize(x, y, y_pred)"
   ]
  }
 ],
 "metadata": {
  "kernelspec": {
   "display_name": "pycon",
   "language": "python",
   "name": "python3"
  },
  "language_info": {
   "codemirror_mode": {
    "name": "ipython",
    "version": 3
   },
   "file_extension": ".py",
   "mimetype": "text/x-python",
   "name": "python",
   "nbconvert_exporter": "python",
   "pygments_lexer": "ipython3",
   "version": "3.11.8"
  }
 },
 "nbformat": 4,
 "nbformat_minor": 2
}
