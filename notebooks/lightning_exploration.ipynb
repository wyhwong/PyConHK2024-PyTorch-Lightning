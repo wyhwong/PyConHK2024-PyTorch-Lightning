{
 "cells": [
  {
   "cell_type": "markdown",
   "metadata": {},
   "source": [
    "## More Exploration on Usage of PyTorch Lightning\n",
    "\n",
    "This notebook is a continuation of the previous notebook on PyTorch Lightning. In this notebook, we will explore more on the usage of PyTorch Lightning. We will cover the following topics:\n",
    "- Logging (scalar / visualization)\n",
    "- Callbacks (Native / Customized)"
   ]
  },
  {
   "cell_type": "code",
   "execution_count": null,
   "metadata": {},
   "outputs": [],
   "source": [
    "import os\n",
    "\n",
    "os.environ[\"SLACK_BOT_TOKEN\"] = \"\"\n",
    "os.environ[\"SLACK_APP_TOKEN\"] = \"\"\n",
    "os.environ[\"SLACK_DEFAULT_CHANNEL_ID\"] = \"\""
   ]
  },
  {
   "cell_type": "code",
   "execution_count": null,
   "metadata": {},
   "outputs": [],
   "source": [
    "import lightning\n",
    "import numpy as np\n",
    "import torch\n",
    "import torchvision\n",
    "\n",
    "import demo.lightning.models\n",
    "import demo.lightning.callbacks.slack\n",
    "import demo.slack.client\n",
    "\n",
    "torch.set_float32_matmul_precision(\"high\")"
   ]
  },
  {
   "cell_type": "markdown",
   "metadata": {},
   "source": [
    "## Initialize Dataset"
   ]
  },
  {
   "cell_type": "code",
   "execution_count": null,
   "metadata": {},
   "outputs": [],
   "source": [
    "DATAPATH = \"./data\"\n",
    "\n",
    "class_labels = (\n",
    "    \"plane\",\n",
    "    \"car\",\n",
    "    \"bird\",\n",
    "    \"cat\",\n",
    "    \"deer\",\n",
    "    \"dog\",\n",
    "    \"frog\",\n",
    "    \"horse\",\n",
    "    \"ship\",\n",
    "    \"truck\",\n",
    ")\n",
    "transform = torchvision.transforms.Compose(\n",
    "    [\n",
    "        torchvision.transforms.ToTensor(),\n",
    "        torchvision.transforms.Normalize((0.5, 0.5, 0.5), (0.5, 0.5, 0.5)),\n",
    "    ]\n",
    ")\n",
    "denorm_fn = torchvision.transforms.Normalize((-1, -1, -1), (2, 2, 2))\n",
    "\n",
    "class DataModuleCIFAR10(lightning.LightningDataModule):\n",
    "    \"\"\"PyTorch Lightning data module\"\"\"\n",
    "\n",
    "    def __init__(self, batch_size: int):\n",
    "        \"\"\"Data module for the simple linear regression dataset\"\"\"\n",
    "\n",
    "        super().__init__()\n",
    "        self.train_dataset = torchvision.datasets.CIFAR10(\n",
    "            root=DATAPATH, train=True, download=True, transform=transform\n",
    "        )\n",
    "        self.val_dataset = torchvision.datasets.CIFAR10(\n",
    "            root=DATAPATH, train=False, download=True, transform=transform\n",
    "        )\n",
    "        self.batch_size = batch_size\n",
    "\n",
    "    def train_dataloader(self):\n",
    "        \"\"\"Training data loader\"\"\"\n",
    "\n",
    "        return torch.utils.data.DataLoader(\n",
    "            self.train_dataset,\n",
    "            batch_size=self.batch_size,\n",
    "            shuffle=True,\n",
    "            num_workers=4,\n",
    "        )\n",
    "\n",
    "    def val_dataloader(self):\n",
    "        \"\"\"Validation data loader\"\"\"\n",
    "\n",
    "        return torch.utils.data.DataLoader(\n",
    "            self.val_dataset,\n",
    "            batch_size=self.batch_size,\n",
    "            shuffle=False,\n",
    "            num_workers=4,\n",
    "        )"
   ]
  },
  {
   "cell_type": "code",
   "execution_count": null,
   "metadata": {},
   "outputs": [],
   "source": [
    "data_module = DataModuleCIFAR10(batch_size=512)"
   ]
  },
  {
   "cell_type": "markdown",
   "metadata": {},
   "source": [
    "## Single Training"
   ]
  },
  {
   "cell_type": "code",
   "execution_count": null,
   "metadata": {},
   "outputs": [],
   "source": [
    "lightning.pytorch.seed_everything(42, workers=True)\n",
    "\n",
    "hyperparameters = {\n",
    "    \"optimizer\": {\n",
    "        \"lr\": 1e-7,\n",
    "        \"weight_decay\": 0.01,\n",
    "    },\n",
    "    \"scheduler\": {\n",
    "        \"step_size\": 5,\n",
    "        \"gamma\": 0.1,\n",
    "    },\n",
    "}\n",
    "\n",
    "resnet = demo.lightning.models.ResNet18(\n",
    "    num_classes=len(class_labels),\n",
    "    class_labels=class_labels,\n",
    "    denorm_fn=denorm_fn,\n",
    "    hyperparameters=hyperparameters,\n",
    ")\n",
    "trainer = lightning.pytorch.Trainer(\n",
    "    max_epochs=10,\n",
    "    log_every_n_steps=1,\n",
    "    check_val_every_n_epoch=1,\n",
    ")\n",
    "\n",
    "trainer.fit(model=resnet, datamodule=data_module)"
   ]
  },
  {
   "cell_type": "markdown",
   "metadata": {},
   "source": [
    "## Hyperparameter Search\n",
    "\n",
    "Note: this part will run for around 5 minutes (reference gpu: RTX 4060 ti)"
   ]
  },
  {
   "cell_type": "code",
   "execution_count": null,
   "metadata": {},
   "outputs": [],
   "source": [
    "search_space = {\n",
    "    \"optimizer\": {\n",
    "        # [low, high]\n",
    "        \"lr\": [1e-7, 1e-5],\n",
    "        \"weight_decay\": [0.01, 0.1],\n",
    "    },\n",
    "    \"scheduler\": {\n",
    "        # [low, high]\n",
    "        \"step_size\": [5, 10],\n",
    "        \"gamma\": [0.1, 0.5],\n",
    "    },\n",
    "}\n",
    "\n",
    "n_samples = 5"
   ]
  },
  {
   "cell_type": "code",
   "execution_count": null,
   "metadata": {},
   "outputs": [],
   "source": [
    "def generate_hyperparameters():\n",
    "    \"\"\"Generate hyperparameters\"\"\"\n",
    "\n",
    "    hyperparameters = {}\n",
    "    for key, value in search_space.items():\n",
    "        hyperparameters[key] = {}\n",
    "        for subkey, subvalue in value.items():\n",
    "            hyperparameters[key][subkey] = np.random.uniform(subvalue[0], subvalue[1])\n",
    "    return hyperparameters"
   ]
  },
  {
   "cell_type": "code",
   "execution_count": null,
   "metadata": {},
   "outputs": [],
   "source": [
    "for _ in range(n_samples):\n",
    "    hyperparameters = generate_hyperparameters()\n",
    "    resnet = demo.lightning.models.ResNet18(\n",
    "        num_classes=len(class_labels),\n",
    "        class_labels=class_labels,\n",
    "        denorm_fn=denorm_fn,\n",
    "        hyperparameters=hyperparameters,\n",
    "    )\n",
    "    trainer = lightning.pytorch.Trainer(\n",
    "        max_epochs=10,\n",
    "        log_every_n_steps=1,\n",
    "        check_val_every_n_epoch=1,\n",
    "    )\n",
    "\n",
    "    trainer.fit(model=resnet, datamodule=data_module)"
   ]
  },
  {
   "cell_type": "markdown",
   "metadata": {},
   "source": [
    "## Callbacks"
   ]
  },
  {
   "cell_type": "code",
   "execution_count": null,
   "metadata": {},
   "outputs": [],
   "source": [
    "callbacks = [\n",
    "    lightning.pytorch.callbacks.EarlyStopping(\n",
    "        monitor=\"val_loss\",\n",
    "        mode=\"min\",\n",
    "        patience=1,\n",
    "        verbose=True,\n",
    "    ),\n",
    "    lightning.pytorch.callbacks.ModelCheckpoint(\n",
    "        dirpath=\"./models\",\n",
    "        filename=\"resnet18_cifar10_best_{epoch:02d}\",\n",
    "        monitor=\"val_loss\",\n",
    "        save_top_k=1,\n",
    "        mode=\"min\",\n",
    "        verbose=True,\n",
    "    ),\n",
    "]"
   ]
  },
  {
   "cell_type": "code",
   "execution_count": null,
   "metadata": {},
   "outputs": [],
   "source": [
    "hyperparameters = generate_hyperparameters()\n",
    "\n",
    "resnet = demo.lightning.models.ResNet18(\n",
    "    num_classes=len(class_labels),\n",
    "    class_labels=class_labels,\n",
    "    denorm_fn=denorm_fn,\n",
    "    hyperparameters=hyperparameters,\n",
    ")\n",
    "trainer = lightning.pytorch.Trainer(\n",
    "    max_epochs=10,\n",
    "    log_every_n_steps=1,\n",
    "    check_val_every_n_epoch=1,\n",
    "    callbacks=callbacks,\n",
    ")\n",
    "trainer.fit(model=resnet, datamodule=data_module)"
   ]
  },
  {
   "cell_type": "markdown",
   "metadata": {},
   "source": [
    "## Customized Callbacks"
   ]
  },
  {
   "cell_type": "code",
   "execution_count": null,
   "metadata": {},
   "outputs": [],
   "source": [
    "slack_client = demo.slack.client.SlackClient()\n",
    "callbacks = [\n",
    "    demo.lightning.callbacks.slack.MonitorTrainingOnSlack(\n",
    "        slack_client=slack_client, log_every_n_epoch=1\n",
    "    )\n",
    "]"
   ]
  },
  {
   "cell_type": "code",
   "execution_count": null,
   "metadata": {},
   "outputs": [],
   "source": [
    "hyperparameters = generate_hyperparameters()\n",
    "\n",
    "resnet = demo.lightning.models.ResNet18(\n",
    "    num_classes=len(class_labels),\n",
    "    class_labels=class_labels,\n",
    "    denorm_fn=denorm_fn,\n",
    "    hyperparameters=hyperparameters,\n",
    ")\n",
    "trainer = lightning.pytorch.Trainer(\n",
    "    max_epochs=50,\n",
    "    log_every_n_steps=1,\n",
    "    check_val_every_n_epoch=1,\n",
    "    callbacks=callbacks,\n",
    ")\n",
    "trainer.fit(model=resnet, datamodule=data_module)"
   ]
  }
 ],
 "metadata": {
  "kernelspec": {
   "display_name": "pycon",
   "language": "python",
   "name": "python3"
  },
  "language_info": {
   "codemirror_mode": {
    "name": "ipython",
    "version": 3
   },
   "file_extension": ".py",
   "mimetype": "text/x-python",
   "name": "python",
   "nbconvert_exporter": "python",
   "pygments_lexer": "ipython3",
   "version": "3.11.8"
  }
 },
 "nbformat": 4,
 "nbformat_minor": 2
}
